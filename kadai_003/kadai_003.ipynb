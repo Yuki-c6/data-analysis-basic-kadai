{
  "nbformat": 4,
  "nbformat_minor": 0,
  "metadata": {
    "colab": {
      "provenance": []
    },
    "kernelspec": {
      "name": "python3",
      "display_name": "Python 3"
    },
    "language_info": {
      "name": "python"
    }
  },
  "cells": [
    {
      "cell_type": "code",
      "execution_count": 10,
      "metadata": {
        "colab": {
          "base_uri": "https://localhost:8080/"
        },
        "id": "AG75LyxboS7I",
        "outputId": "84f69b12-ef99-4f0b-ab09-b5353c54307f"
      },
      "outputs": [
        {
          "output_type": "stream",
          "name": "stdout",
          "text": [
            "[[ 4  5  6  7]\n",
            " [12 17 22 27]\n",
            " [20 29 38 47]]\n",
            "要素の最大値は47です\n"
          ]
        }
      ],
      "source": [
        "import numpy as np\n",
        "A = np.array([[0, 1], [2, 3], [4, 5]])\n",
        "B = np.array([[0, 1, 2, 3], [4, 5, 6, 7]])\n",
        "result = np.dot(A, B)\n",
        "\n",
        "# A*Bの積を表示\n",
        "print(result)\n",
        "\n",
        "# 要素内の最大値を表示\n",
        "print(f\"要素の最大値は{result.max()}です\")"
      ]
    }
  ]
}